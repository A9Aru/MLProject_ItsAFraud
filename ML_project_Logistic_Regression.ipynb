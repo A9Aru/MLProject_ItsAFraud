{
  "cells": [
    {
      "cell_type": "code",
      "execution_count": 18,
      "metadata": {
        "colab": {
          "base_uri": "https://localhost:8080/"
        },
        "id": "q2TSdaSjhUFk",
        "outputId": "f3e4e0a4-8b85-4641-a60a-be4e35327c64"
      },
      "outputs": [],
      "source": [
        "import numpy as np\n",
        "import pandas as pd\n",
        "import math\n",
        "from sklearn.model_selection import train_test_split\n",
        "from sklearn.metrics import f1_score\n",
        "from sklearn.metrics import roc_auc_score\n",
        "import matplotlib.pyplot as plt \n",
        "import seaborn as sns\n",
        "from sklearn.linear_model import LogisticRegression\n",
        "import imblearn\n",
        "from imblearn.over_sampling import SMOTE\n",
        "from imblearn.under_sampling import RandomUnderSampler\n",
        "from imblearn.pipeline import Pipeline\n",
        "from sklearn import preprocessing\n",
        "from sklearn.model_selection import GridSearchCV\n",
        "from sklearn.model_selection import RepeatedStratifiedKFold"
      ]
    },
    {
      "cell_type": "code",
      "execution_count": 2,
      "metadata": {
        "id": "vexanmhQh6Ai"
      },
      "outputs": [],
      "source": [
        "train=pd.read_csv(\"pre_processed_train.csv\")\n",
        "test=pd.read_csv(\"pre_processed_test.csv\")"
      ]
    },
    {
      "cell_type": "code",
      "execution_count": 3,
      "metadata": {
        "colab": {
          "base_uri": "https://localhost:8080/",
          "height": 505
        },
        "id": "Ws5Su2RUqd11",
        "outputId": "39240c96-7136-414a-8a60-5de8b1a8ce0d"
      },
      "outputs": [
        {
          "data": {
            "text/html": [
              "<div>\n",
              "<style scoped>\n",
              "    .dataframe tbody tr th:only-of-type {\n",
              "        vertical-align: middle;\n",
              "    }\n",
              "\n",
              "    .dataframe tbody tr th {\n",
              "        vertical-align: top;\n",
              "    }\n",
              "\n",
              "    .dataframe thead th {\n",
              "        text-align: right;\n",
              "    }\n",
              "</style>\n",
              "<table border=\"1\" class=\"dataframe\">\n",
              "  <thead>\n",
              "    <tr style=\"text-align: right;\">\n",
              "      <th></th>\n",
              "      <th>Unnamed: 0</th>\n",
              "      <th>TransactionID</th>\n",
              "      <th>isFraud</th>\n",
              "      <th>TransactionAmt</th>\n",
              "      <th>card1</th>\n",
              "      <th>card2</th>\n",
              "      <th>card3</th>\n",
              "      <th>card5</th>\n",
              "      <th>addr1</th>\n",
              "      <th>dist1</th>\n",
              "      <th>...</th>\n",
              "      <th>M4_M3</th>\n",
              "      <th>M5_F</th>\n",
              "      <th>M5_N</th>\n",
              "      <th>M5_T</th>\n",
              "      <th>M6_F</th>\n",
              "      <th>M6_N</th>\n",
              "      <th>M6_T</th>\n",
              "      <th>M8_F</th>\n",
              "      <th>M8_N</th>\n",
              "      <th>M8_T</th>\n",
              "    </tr>\n",
              "  </thead>\n",
              "  <tbody>\n",
              "    <tr>\n",
              "      <th>0</th>\n",
              "      <td>0</td>\n",
              "      <td>3424175</td>\n",
              "      <td>0</td>\n",
              "      <td>7.000000</td>\n",
              "      <td>5033.0</td>\n",
              "      <td>269.0</td>\n",
              "      <td>150.0</td>\n",
              "      <td>224.0</td>\n",
              "      <td>330.0</td>\n",
              "      <td>2.449490</td>\n",
              "      <td>...</td>\n",
              "      <td>0</td>\n",
              "      <td>0</td>\n",
              "      <td>0</td>\n",
              "      <td>1</td>\n",
              "      <td>1</td>\n",
              "      <td>0</td>\n",
              "      <td>0</td>\n",
              "      <td>0</td>\n",
              "      <td>1</td>\n",
              "      <td>0</td>\n",
              "    </tr>\n",
              "    <tr>\n",
              "      <th>1</th>\n",
              "      <td>1</td>\n",
              "      <td>3206179</td>\n",
              "      <td>0</td>\n",
              "      <td>7.612490</td>\n",
              "      <td>4527.0</td>\n",
              "      <td>376.0</td>\n",
              "      <td>150.0</td>\n",
              "      <td>226.0</td>\n",
              "      <td>441.0</td>\n",
              "      <td>5.986395</td>\n",
              "      <td>...</td>\n",
              "      <td>1</td>\n",
              "      <td>0</td>\n",
              "      <td>1</td>\n",
              "      <td>0</td>\n",
              "      <td>1</td>\n",
              "      <td>0</td>\n",
              "      <td>0</td>\n",
              "      <td>0</td>\n",
              "      <td>1</td>\n",
              "      <td>0</td>\n",
              "    </tr>\n",
              "    <tr>\n",
              "      <th>2</th>\n",
              "      <td>2</td>\n",
              "      <td>3410455</td>\n",
              "      <td>0</td>\n",
              "      <td>10.768008</td>\n",
              "      <td>2772.0</td>\n",
              "      <td>512.0</td>\n",
              "      <td>150.0</td>\n",
              "      <td>226.0</td>\n",
              "      <td>143.0</td>\n",
              "      <td>3.741657</td>\n",
              "      <td>...</td>\n",
              "      <td>1</td>\n",
              "      <td>0</td>\n",
              "      <td>1</td>\n",
              "      <td>0</td>\n",
              "      <td>0</td>\n",
              "      <td>0</td>\n",
              "      <td>1</td>\n",
              "      <td>1</td>\n",
              "      <td>0</td>\n",
              "      <td>0</td>\n",
              "    </tr>\n",
              "    <tr>\n",
              "      <th>3</th>\n",
              "      <td>3</td>\n",
              "      <td>3058578</td>\n",
              "      <td>0</td>\n",
              "      <td>10.000000</td>\n",
              "      <td>14290.0</td>\n",
              "      <td>512.0</td>\n",
              "      <td>150.0</td>\n",
              "      <td>226.0</td>\n",
              "      <td>177.0</td>\n",
              "      <td>5.986395</td>\n",
              "      <td>...</td>\n",
              "      <td>1</td>\n",
              "      <td>0</td>\n",
              "      <td>1</td>\n",
              "      <td>0</td>\n",
              "      <td>0</td>\n",
              "      <td>1</td>\n",
              "      <td>0</td>\n",
              "      <td>0</td>\n",
              "      <td>1</td>\n",
              "      <td>0</td>\n",
              "    </tr>\n",
              "    <tr>\n",
              "      <th>4</th>\n",
              "      <td>4</td>\n",
              "      <td>3242131</td>\n",
              "      <td>0</td>\n",
              "      <td>9.746794</td>\n",
              "      <td>12839.0</td>\n",
              "      <td>321.0</td>\n",
              "      <td>150.0</td>\n",
              "      <td>226.0</td>\n",
              "      <td>220.0</td>\n",
              "      <td>2.449490</td>\n",
              "      <td>...</td>\n",
              "      <td>0</td>\n",
              "      <td>1</td>\n",
              "      <td>0</td>\n",
              "      <td>0</td>\n",
              "      <td>1</td>\n",
              "      <td>0</td>\n",
              "      <td>0</td>\n",
              "      <td>0</td>\n",
              "      <td>0</td>\n",
              "      <td>1</td>\n",
              "    </tr>\n",
              "    <tr>\n",
              "      <th>...</th>\n",
              "      <td>...</td>\n",
              "      <td>...</td>\n",
              "      <td>...</td>\n",
              "      <td>...</td>\n",
              "      <td>...</td>\n",
              "      <td>...</td>\n",
              "      <td>...</td>\n",
              "      <td>...</td>\n",
              "      <td>...</td>\n",
              "      <td>...</td>\n",
              "      <td>...</td>\n",
              "      <td>...</td>\n",
              "      <td>...</td>\n",
              "      <td>...</td>\n",
              "      <td>...</td>\n",
              "      <td>...</td>\n",
              "      <td>...</td>\n",
              "      <td>...</td>\n",
              "      <td>...</td>\n",
              "      <td>...</td>\n",
              "      <td>...</td>\n",
              "    </tr>\n",
              "    <tr>\n",
              "      <th>442900</th>\n",
              "      <td>442900</td>\n",
              "      <td>3020019</td>\n",
              "      <td>0</td>\n",
              "      <td>5.385165</td>\n",
              "      <td>3277.0</td>\n",
              "      <td>111.0</td>\n",
              "      <td>150.0</td>\n",
              "      <td>226.0</td>\n",
              "      <td>231.0</td>\n",
              "      <td>5.986395</td>\n",
              "      <td>...</td>\n",
              "      <td>0</td>\n",
              "      <td>0</td>\n",
              "      <td>0</td>\n",
              "      <td>1</td>\n",
              "      <td>1</td>\n",
              "      <td>0</td>\n",
              "      <td>0</td>\n",
              "      <td>0</td>\n",
              "      <td>1</td>\n",
              "      <td>0</td>\n",
              "    </tr>\n",
              "    <tr>\n",
              "      <th>442901</th>\n",
              "      <td>442901</td>\n",
              "      <td>3546388</td>\n",
              "      <td>0</td>\n",
              "      <td>9.848858</td>\n",
              "      <td>18132.0</td>\n",
              "      <td>567.0</td>\n",
              "      <td>150.0</td>\n",
              "      <td>117.0</td>\n",
              "      <td>272.0</td>\n",
              "      <td>2.828427</td>\n",
              "      <td>...</td>\n",
              "      <td>0</td>\n",
              "      <td>0</td>\n",
              "      <td>0</td>\n",
              "      <td>1</td>\n",
              "      <td>1</td>\n",
              "      <td>0</td>\n",
              "      <td>0</td>\n",
              "      <td>0</td>\n",
              "      <td>1</td>\n",
              "      <td>0</td>\n",
              "    </tr>\n",
              "    <tr>\n",
              "      <th>442902</th>\n",
              "      <td>442902</td>\n",
              "      <td>3087445</td>\n",
              "      <td>0</td>\n",
              "      <td>10.000000</td>\n",
              "      <td>6019.0</td>\n",
              "      <td>583.0</td>\n",
              "      <td>150.0</td>\n",
              "      <td>226.0</td>\n",
              "      <td>441.0</td>\n",
              "      <td>5.986395</td>\n",
              "      <td>...</td>\n",
              "      <td>1</td>\n",
              "      <td>0</td>\n",
              "      <td>1</td>\n",
              "      <td>0</td>\n",
              "      <td>0</td>\n",
              "      <td>1</td>\n",
              "      <td>0</td>\n",
              "      <td>0</td>\n",
              "      <td>1</td>\n",
              "      <td>0</td>\n",
              "    </tr>\n",
              "    <tr>\n",
              "      <th>442903</th>\n",
              "      <td>442903</td>\n",
              "      <td>3066953</td>\n",
              "      <td>0</td>\n",
              "      <td>5.000000</td>\n",
              "      <td>10737.0</td>\n",
              "      <td>399.0</td>\n",
              "      <td>150.0</td>\n",
              "      <td>118.0</td>\n",
              "      <td>204.0</td>\n",
              "      <td>5.986395</td>\n",
              "      <td>...</td>\n",
              "      <td>1</td>\n",
              "      <td>0</td>\n",
              "      <td>1</td>\n",
              "      <td>0</td>\n",
              "      <td>0</td>\n",
              "      <td>1</td>\n",
              "      <td>0</td>\n",
              "      <td>0</td>\n",
              "      <td>1</td>\n",
              "      <td>0</td>\n",
              "    </tr>\n",
              "    <tr>\n",
              "      <th>442904</th>\n",
              "      <td>442904</td>\n",
              "      <td>3505849</td>\n",
              "      <td>0</td>\n",
              "      <td>7.071068</td>\n",
              "      <td>6019.0</td>\n",
              "      <td>583.0</td>\n",
              "      <td>150.0</td>\n",
              "      <td>226.0</td>\n",
              "      <td>264.0</td>\n",
              "      <td>5.986395</td>\n",
              "      <td>...</td>\n",
              "      <td>1</td>\n",
              "      <td>0</td>\n",
              "      <td>1</td>\n",
              "      <td>0</td>\n",
              "      <td>0</td>\n",
              "      <td>1</td>\n",
              "      <td>0</td>\n",
              "      <td>0</td>\n",
              "      <td>1</td>\n",
              "      <td>0</td>\n",
              "    </tr>\n",
              "  </tbody>\n",
              "</table>\n",
              "<p>442905 rows × 118 columns</p>\n",
              "</div>"
            ],
            "text/plain": [
              "        Unnamed: 0  TransactionID  isFraud  TransactionAmt    card1  card2  \\\n",
              "0                0        3424175        0        7.000000   5033.0  269.0   \n",
              "1                1        3206179        0        7.612490   4527.0  376.0   \n",
              "2                2        3410455        0       10.768008   2772.0  512.0   \n",
              "3                3        3058578        0       10.000000  14290.0  512.0   \n",
              "4                4        3242131        0        9.746794  12839.0  321.0   \n",
              "...            ...            ...      ...             ...      ...    ...   \n",
              "442900      442900        3020019        0        5.385165   3277.0  111.0   \n",
              "442901      442901        3546388        0        9.848858  18132.0  567.0   \n",
              "442902      442902        3087445        0       10.000000   6019.0  583.0   \n",
              "442903      442903        3066953        0        5.000000  10737.0  399.0   \n",
              "442904      442904        3505849        0        7.071068   6019.0  583.0   \n",
              "\n",
              "        card3  card5  addr1     dist1  ...  M4_M3  M5_F  M5_N  M5_T  M6_F  \\\n",
              "0       150.0  224.0  330.0  2.449490  ...      0     0     0     1     1   \n",
              "1       150.0  226.0  441.0  5.986395  ...      1     0     1     0     1   \n",
              "2       150.0  226.0  143.0  3.741657  ...      1     0     1     0     0   \n",
              "3       150.0  226.0  177.0  5.986395  ...      1     0     1     0     0   \n",
              "4       150.0  226.0  220.0  2.449490  ...      0     1     0     0     1   \n",
              "...       ...    ...    ...       ...  ...    ...   ...   ...   ...   ...   \n",
              "442900  150.0  226.0  231.0  5.986395  ...      0     0     0     1     1   \n",
              "442901  150.0  117.0  272.0  2.828427  ...      0     0     0     1     1   \n",
              "442902  150.0  226.0  441.0  5.986395  ...      1     0     1     0     0   \n",
              "442903  150.0  118.0  204.0  5.986395  ...      1     0     1     0     0   \n",
              "442904  150.0  226.0  264.0  5.986395  ...      1     0     1     0     0   \n",
              "\n",
              "        M6_N  M6_T  M8_F  M8_N  M8_T  \n",
              "0          0     0     0     1     0  \n",
              "1          0     0     0     1     0  \n",
              "2          0     1     1     0     0  \n",
              "3          1     0     0     1     0  \n",
              "4          0     0     0     0     1  \n",
              "...      ...   ...   ...   ...   ...  \n",
              "442900     0     0     0     1     0  \n",
              "442901     0     0     0     1     0  \n",
              "442902     1     0     0     1     0  \n",
              "442903     1     0     0     1     0  \n",
              "442904     1     0     0     1     0  \n",
              "\n",
              "[442905 rows x 118 columns]"
            ]
          },
          "execution_count": 3,
          "metadata": {},
          "output_type": "execute_result"
        }
      ],
      "source": [
        "train"
      ]
    },
    {
      "cell_type": "code",
      "execution_count": 4,
      "metadata": {
        "id": "o6hmthwkieUD"
      },
      "outputs": [],
      "source": [
        "t1=train"
      ]
    },
    {
      "cell_type": "code",
      "execution_count": 5,
      "metadata": {
        "id": "dO675f6libjq"
      },
      "outputs": [],
      "source": [
        "ytrain=train[\"isFraud\"]\n",
        "train.drop(axis = 1, labels = [\"isFraud\",\"Unnamed: 0\"], inplace = True)"
      ]
    },
    {
      "cell_type": "code",
      "execution_count": 9,
      "metadata": {},
      "outputs": [],
      "source": [
        "test.drop(axis = 1, labels = [\"Unnamed: 0\"], inplace = True)"
      ]
    },
    {
      "cell_type": "code",
      "execution_count": 6,
      "metadata": {
        "id": "tDfF3hGxmXWP"
      },
      "outputs": [],
      "source": [
        "over = SMOTE(sampling_strategy=0.04)\n",
        "under = RandomUnderSampler(sampling_strategy=0.8)\n",
        "steps = [('o', over),('u',under)]\n",
        "pipeline = Pipeline(steps=steps)\n",
        "train1, ytrain1 = pipeline.fit_resample(train, ytrain)"
      ]
    },
    {
      "cell_type": "code",
      "execution_count": 7,
      "metadata": {
        "colab": {
          "base_uri": "https://localhost:8080/"
        },
        "id": "fREPSA1KeRTr",
        "outputId": "dd8b255b-f0f4-4b9e-bd8e-1e1781e11ca0"
      },
      "outputs": [
        {
          "data": {
            "text/plain": [
              "0         0\n",
              "1         0\n",
              "2         0\n",
              "3         0\n",
              "4         0\n",
              "         ..\n",
              "442900    0\n",
              "442901    0\n",
              "442902    0\n",
              "442903    0\n",
              "442904    0\n",
              "Name: isFraud, Length: 442905, dtype: int64"
            ]
          },
          "execution_count": 7,
          "metadata": {},
          "output_type": "execute_result"
        }
      ],
      "source": [
        "ytrain"
      ]
    },
    {
      "cell_type": "code",
      "execution_count": 10,
      "metadata": {
        "id": "aeH_Pu_NnaOy"
      },
      "outputs": [],
      "source": [
        "from sklearn.preprocessing import StandardScaler\n",
        "scale= StandardScaler()\n",
        "X_train = scale.fit_transform(train1)\n",
        "X_test=scale.transform(test) "
      ]
    },
    {
      "cell_type": "code",
      "execution_count": 19,
      "metadata": {
        "id": "ArFRDLshoCpG"
      },
      "outputs": [],
      "source": [
        "solvers = ['newton-cg', 'lbfgs', 'liblinear']\n",
        "penalty = ['l1','l2']\n",
        "c_values = [100, 10, 1.0, 0.1, 0.01]\n",
        "max_iter=[100000]\n",
        "grid = dict(solver=solvers,penalty=penalty,C=c_values,max_iter=max_iter)\n",
        "cv = RepeatedStratifiedKFold(n_splits=10, n_repeats=3, random_state=1)"
      ]
    },
    {
      "cell_type": "code",
      "execution_count": 20,
      "metadata": {
        "id": "9OKlyFauponW"
      },
      "outputs": [
        {
          "name": "stderr",
          "output_type": "stream",
          "text": [
            "/home/darshak/.local/lib/python3.8/site-packages/sklearn/model_selection/_validation.py:378: FitFailedWarning: \n",
            "300 fits failed out of a total of 900.\n",
            "The score on these train-test partitions for these parameters will be set to 0.\n",
            "If these failures are not expected, you can try to debug them by setting error_score='raise'.\n",
            "\n",
            "Below are more details about the failures:\n",
            "--------------------------------------------------------------------------------\n",
            "150 fits failed with the following error:\n",
            "Traceback (most recent call last):\n",
            "  File \"/home/darshak/.local/lib/python3.8/site-packages/sklearn/model_selection/_validation.py\", line 686, in _fit_and_score\n",
            "    estimator.fit(X_train, y_train, **fit_params)\n",
            "  File \"/home/darshak/.local/lib/python3.8/site-packages/sklearn/linear_model/_logistic.py\", line 1091, in fit\n",
            "    solver = _check_solver(self.solver, self.penalty, self.dual)\n",
            "  File \"/home/darshak/.local/lib/python3.8/site-packages/sklearn/linear_model/_logistic.py\", line 61, in _check_solver\n",
            "    raise ValueError(\n",
            "ValueError: Solver newton-cg supports only 'l2' or 'none' penalties, got l1 penalty.\n",
            "\n",
            "--------------------------------------------------------------------------------\n",
            "150 fits failed with the following error:\n",
            "Traceback (most recent call last):\n",
            "  File \"/home/darshak/.local/lib/python3.8/site-packages/sklearn/model_selection/_validation.py\", line 686, in _fit_and_score\n",
            "    estimator.fit(X_train, y_train, **fit_params)\n",
            "  File \"/home/darshak/.local/lib/python3.8/site-packages/sklearn/linear_model/_logistic.py\", line 1091, in fit\n",
            "    solver = _check_solver(self.solver, self.penalty, self.dual)\n",
            "  File \"/home/darshak/.local/lib/python3.8/site-packages/sklearn/linear_model/_logistic.py\", line 61, in _check_solver\n",
            "    raise ValueError(\n",
            "ValueError: Solver lbfgs supports only 'l2' or 'none' penalties, got l1 penalty.\n",
            "\n",
            "  warnings.warn(some_fits_failed_message, FitFailedWarning)\n"
          ]
        }
      ],
      "source": [
        "logreg = LogisticRegression()\n",
        "grid_search = GridSearchCV(estimator=logreg, param_grid=grid, n_jobs=-1, cv=cv, scoring='accuracy',error_score=0)\n",
        "grid_result = grid_search.fit(X_train, ytrain1)"
      ]
    },
    {
      "cell_type": "code",
      "execution_count": 21,
      "metadata": {
        "id": "pe9FDYzjp0Ry"
      },
      "outputs": [
        {
          "name": "stdout",
          "output_type": "stream",
          "text": [
            "Tuned Hyperparameters : {'C': 0.1, 'max_iter': 100000, 'penalty': 'l2', 'solver': 'lbfgs'}\n",
            "Accuracy : 0.7695454623487772\n"
          ]
        }
      ],
      "source": [
        "print(\"Tuned Hyperparameters :\", grid_result.best_params_)\n",
        "print(\"Accuracy :\",grid_result.best_score_)"
      ]
    },
    {
      "cell_type": "code",
      "execution_count": 22,
      "metadata": {},
      "outputs": [],
      "source": [
        "classifier = LogisticRegression(C=0.1,penalty='l2',solver=\"lbfgs\",max_iter=100000)\n",
        "classifier.fit(X_train, ytrain1)\n",
        "y_pred1 = classifier.predict(X_test)"
      ]
    },
    {
      "cell_type": "code",
      "execution_count": 23,
      "metadata": {},
      "outputs": [
        {
          "data": {
            "text/plain": [
              "31044"
            ]
          },
          "execution_count": 23,
          "metadata": {},
          "output_type": "execute_result"
        }
      ],
      "source": [
        "y_pred1.sum()"
      ]
    },
    {
      "cell_type": "code",
      "execution_count": 17,
      "metadata": {},
      "outputs": [],
      "source": [
        "import csv\n",
        "with open('log_reg.csv', 'w', newline='') as file:\n",
        "    writer = csv.writer(file)\n",
        "    writer.writerow([\"Id\",\"isFraud\"])\n",
        "    idx=0\n",
        "    for i in y_pred1:\n",
        "        writer.writerow([idx,i])\n",
        "        idx=idx+1"
      ]
    }
  ],
  "metadata": {
    "accelerator": "GPU",
    "colab": {
      "provenance": []
    },
    "gpuClass": "standard",
    "kernelspec": {
      "display_name": "Python 3.8.8 ('base')",
      "language": "python",
      "name": "python3"
    },
    "language_info": {
      "codemirror_mode": {
        "name": "ipython",
        "version": 3
      },
      "file_extension": ".py",
      "mimetype": "text/x-python",
      "name": "python",
      "nbconvert_exporter": "python",
      "pygments_lexer": "ipython3",
      "version": "3.8.8"
    },
    "vscode": {
      "interpreter": {
        "hash": "f901be38247ee343ccf023842375b442713c513c9d1d678b75352564fc2b134f"
      }
    }
  },
  "nbformat": 4,
  "nbformat_minor": 0
}
