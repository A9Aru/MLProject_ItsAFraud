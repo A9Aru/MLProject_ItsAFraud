{
 "cells": [
  {
   "cell_type": "code",
   "execution_count": 3,
   "id": "fd8c9d56-ca03-4fb2-9470-fcd4fa15679c",
   "metadata": {
    "execution": {
     "iopub.execute_input": "2022-11-17T21:05:49.318264Z",
     "iopub.status.busy": "2022-11-17T21:05:49.316742Z",
     "iopub.status.idle": "2022-11-17T21:06:00.946117Z",
     "shell.execute_reply": "2022-11-17T21:06:00.944491Z",
     "shell.execute_reply.started": "2022-11-17T21:05:49.318132Z"
    }
   },
   "outputs": [
    {
     "name": "stdout",
     "output_type": "stream",
     "text": [
      "Requirement already satisfied: xgboost in /usr/local/lib/python3.10/site-packages (1.7.1)\n",
      "Requirement already satisfied: numpy in /usr/local/lib/python3.10/site-packages (from xgboost) (1.23.4)\n",
      "Requirement already satisfied: scipy in /usr/local/lib/python3.10/site-packages (from xgboost) (1.9.3)\n",
      "Requirement already satisfied: imbalanced-learn in /usr/local/lib/python3.10/site-packages (0.9.1)\n",
      "Requirement already satisfied: joblib>=1.0.0 in /usr/local/lib/python3.10/site-packages (from imbalanced-learn) (1.2.0)\n",
      "Requirement already satisfied: scikit-learn>=1.1.0 in /usr/local/lib/python3.10/site-packages (from imbalanced-learn) (1.1.3)\n",
      "Requirement already satisfied: scipy>=1.3.2 in /usr/local/lib/python3.10/site-packages (from imbalanced-learn) (1.9.3)\n",
      "Requirement already satisfied: threadpoolctl>=2.0.0 in /usr/local/lib/python3.10/site-packages (from imbalanced-learn) (3.1.0)\n",
      "Requirement already satisfied: numpy>=1.17.3 in /usr/local/lib/python3.10/site-packages (from imbalanced-learn) (1.23.4)\n"
     ]
    }
   ],
   "source": [
    "!pip install xgboost\n",
    "!pip install imbalanced-learn\n",
    "import numpy as np\n",
    "import pandas as pd\n",
    "from datetime import datetime\n",
    "from sklearn.model_selection import RandomizedSearchCV, GridSearchCV\n",
    "from sklearn.metrics import roc_auc_score\n",
    "from sklearn.model_selection import StratifiedKFold\n",
    "from xgboost import XGBClassifier\n",
    "import imblearn\n",
    "from imblearn.over_sampling import SMOTE\n",
    "from imblearn.under_sampling import RandomUnderSampler\n",
    "from imblearn.pipeline import Pipeline\n",
    "from sklearn import preprocessing"
   ]
  },
  {
   "cell_type": "code",
   "execution_count": 4,
   "id": "dff020a8-170f-49b0-8a14-ab52b30c53f8",
   "metadata": {
    "execution": {
     "iopub.execute_input": "2022-11-17T21:06:00.950175Z",
     "iopub.status.busy": "2022-11-17T21:06:00.949681Z",
     "iopub.status.idle": "2022-11-17T21:06:11.487230Z",
     "shell.execute_reply": "2022-11-17T21:06:11.486357Z",
     "shell.execute_reply.started": "2022-11-17T21:06:00.950155Z"
    }
   },
   "outputs": [],
   "source": [
    "train=pd.read_csv(\"pre_processed_train.csv\")\n",
    "test=pd.read_csv(\"pre_processed_test.csv\")"
   ]
  },
  {
   "cell_type": "code",
   "execution_count": 5,
   "id": "68a6ad25-6864-430c-894d-4aae292e446c",
   "metadata": {
    "execution": {
     "iopub.execute_input": "2022-11-17T21:06:11.489539Z",
     "iopub.status.busy": "2022-11-17T21:06:11.488476Z",
     "iopub.status.idle": "2022-11-17T21:06:11.667961Z",
     "shell.execute_reply": "2022-11-17T21:06:11.666416Z",
     "shell.execute_reply.started": "2022-11-17T21:06:11.489511Z"
    }
   },
   "outputs": [],
   "source": [
    "ytrain=train[\"isFraud\"]\n",
    "train.drop(axis = 1, labels = [\"isFraud\",\"Unnamed: 0\"], inplace = True)"
   ]
  },
  {
   "cell_type": "code",
   "execution_count": 6,
   "id": "be251041-7bf6-4929-a999-182a86b75a0b",
   "metadata": {
    "execution": {
     "iopub.execute_input": "2022-11-17T21:06:11.671037Z",
     "iopub.status.busy": "2022-11-17T21:06:11.670138Z",
     "iopub.status.idle": "2022-11-17T21:06:11.742425Z",
     "shell.execute_reply": "2022-11-17T21:06:11.741135Z",
     "shell.execute_reply.started": "2022-11-17T21:06:11.671006Z"
    }
   },
   "outputs": [],
   "source": [
    "test.drop(axis = 1, labels = [\"Unnamed: 0\"], inplace = True)"
   ]
  },
  {
   "cell_type": "code",
   "execution_count": 7,
   "id": "0809d323-3d82-4eb5-9c83-0254f0306392",
   "metadata": {
    "execution": {
     "iopub.execute_input": "2022-11-17T21:06:11.743855Z",
     "iopub.status.busy": "2022-11-17T21:06:11.743596Z",
     "iopub.status.idle": "2022-11-17T21:06:16.376837Z",
     "shell.execute_reply": "2022-11-17T21:06:16.375813Z",
     "shell.execute_reply.started": "2022-11-17T21:06:11.743831Z"
    }
   },
   "outputs": [],
   "source": [
    "over = SMOTE(sampling_strategy=0.05)\n",
    "under = RandomUnderSampler(sampling_strategy=0.8)\n",
    "steps = [('o', over),('u',under)]\n",
    "pipeline = Pipeline(steps=steps)\n",
    "train1, ytrain1 = pipeline.fit_resample(train, ytrain)"
   ]
  },
  {
   "cell_type": "code",
   "execution_count": 8,
   "id": "220e6adc-c7c6-4719-86ed-a238d98d0493",
   "metadata": {
    "execution": {
     "iopub.execute_input": "2022-11-17T21:06:16.379199Z",
     "iopub.status.busy": "2022-11-17T21:06:16.378044Z",
     "iopub.status.idle": "2022-11-17T21:06:17.122372Z",
     "shell.execute_reply": "2022-11-17T21:06:17.121503Z",
     "shell.execute_reply.started": "2022-11-17T21:06:16.379167Z"
    }
   },
   "outputs": [],
   "source": [
    "from sklearn.preprocessing import StandardScaler\n",
    "scale= StandardScaler()\n",
    "X_train = scale.fit_transform(train1)\n",
    "X_test=scale.transform(test) "
   ]
  },
  {
   "cell_type": "code",
   "execution_count": 9,
   "id": "2ffbacb6-eb4e-422e-a677-2a625db09665",
   "metadata": {
    "execution": {
     "iopub.execute_input": "2022-11-17T21:06:17.124642Z",
     "iopub.status.busy": "2022-11-17T21:06:17.123434Z",
     "iopub.status.idle": "2022-11-17T21:13:58.893205Z",
     "shell.execute_reply": "2022-11-17T21:13:58.891169Z",
     "shell.execute_reply.started": "2022-11-17T21:06:17.124602Z"
    }
   },
   "outputs": [
    {
     "name": "stdout",
     "output_type": "stream",
     "text": [
      "[09:15:24] WARNING: /Users/runner/work/xgboost/xgboost/python-package/build/temp.macosx-10.9-x86_64-cpython-38/xgboost/src/learner.cc:767: \n",
      "Parameters: { \"njobs\" } are not used.\n",
      "\n"
     ]
    },
    {
     "data": {
      "text/html": [
       "<style>#sk-container-id-1 {color: black;background-color: white;}#sk-container-id-1 pre{padding: 0;}#sk-container-id-1 div.sk-toggleable {background-color: white;}#sk-container-id-1 label.sk-toggleable__label {cursor: pointer;display: block;width: 100%;margin-bottom: 0;padding: 0.3em;box-sizing: border-box;text-align: center;}#sk-container-id-1 label.sk-toggleable__label-arrow:before {content: \"▸\";float: left;margin-right: 0.25em;color: #696969;}#sk-container-id-1 label.sk-toggleable__label-arrow:hover:before {color: black;}#sk-container-id-1 div.sk-estimator:hover label.sk-toggleable__label-arrow:before {color: black;}#sk-container-id-1 div.sk-toggleable__content {max-height: 0;max-width: 0;overflow: hidden;text-align: left;background-color: #f0f8ff;}#sk-container-id-1 div.sk-toggleable__content pre {margin: 0.2em;color: black;border-radius: 0.25em;background-color: #f0f8ff;}#sk-container-id-1 input.sk-toggleable__control:checked~div.sk-toggleable__content {max-height: 200px;max-width: 100%;overflow: auto;}#sk-container-id-1 input.sk-toggleable__control:checked~label.sk-toggleable__label-arrow:before {content: \"▾\";}#sk-container-id-1 div.sk-estimator input.sk-toggleable__control:checked~label.sk-toggleable__label {background-color: #d4ebff;}#sk-container-id-1 div.sk-label input.sk-toggleable__control:checked~label.sk-toggleable__label {background-color: #d4ebff;}#sk-container-id-1 input.sk-hidden--visually {border: 0;clip: rect(1px 1px 1px 1px);clip: rect(1px, 1px, 1px, 1px);height: 1px;margin: -1px;overflow: hidden;padding: 0;position: absolute;width: 1px;}#sk-container-id-1 div.sk-estimator {font-family: monospace;background-color: #f0f8ff;border: 1px dotted black;border-radius: 0.25em;box-sizing: border-box;margin-bottom: 0.5em;}#sk-container-id-1 div.sk-estimator:hover {background-color: #d4ebff;}#sk-container-id-1 div.sk-parallel-item::after {content: \"\";width: 100%;border-bottom: 1px solid gray;flex-grow: 1;}#sk-container-id-1 div.sk-label:hover label.sk-toggleable__label {background-color: #d4ebff;}#sk-container-id-1 div.sk-serial::before {content: \"\";position: absolute;border-left: 1px solid gray;box-sizing: border-box;top: 0;bottom: 0;left: 50%;z-index: 0;}#sk-container-id-1 div.sk-serial {display: flex;flex-direction: column;align-items: center;background-color: white;padding-right: 0.2em;padding-left: 0.2em;position: relative;}#sk-container-id-1 div.sk-item {position: relative;z-index: 1;}#sk-container-id-1 div.sk-parallel {display: flex;align-items: stretch;justify-content: center;background-color: white;position: relative;}#sk-container-id-1 div.sk-item::before, #sk-container-id-1 div.sk-parallel-item::before {content: \"\";position: absolute;border-left: 1px solid gray;box-sizing: border-box;top: 0;bottom: 0;left: 50%;z-index: -1;}#sk-container-id-1 div.sk-parallel-item {display: flex;flex-direction: column;z-index: 1;position: relative;background-color: white;}#sk-container-id-1 div.sk-parallel-item:first-child::after {align-self: flex-end;width: 50%;}#sk-container-id-1 div.sk-parallel-item:last-child::after {align-self: flex-start;width: 50%;}#sk-container-id-1 div.sk-parallel-item:only-child::after {width: 0;}#sk-container-id-1 div.sk-dashed-wrapped {border: 1px dashed gray;margin: 0 0.4em 0.5em 0.4em;box-sizing: border-box;padding-bottom: 0.4em;background-color: white;}#sk-container-id-1 div.sk-label label {font-family: monospace;font-weight: bold;display: inline-block;line-height: 1.2em;}#sk-container-id-1 div.sk-label-container {text-align: center;}#sk-container-id-1 div.sk-container {/* jupyter's `normalize.less` sets `[hidden] { display: none; }` but bootstrap.min.css set `[hidden] { display: none !important; }` so we also need the `!important` here to be able to override the default hidden behavior on the sphinx rendered scikit-learn.org. See: https://github.com/scikit-learn/scikit-learn/issues/21755 */display: inline-block !important;position: relative;}#sk-container-id-1 div.sk-text-repr-fallback {display: none;}</style><div id=\"sk-container-id-1\" class=\"sk-top-container\"><div class=\"sk-text-repr-fallback\"><pre>XGBClassifier(base_score=0.5, booster=&#x27;gbtree&#x27;, callbacks=None,\n",
       "              colsample_bylevel=1, colsample_bynode=1, colsample_bytree=0.75,\n",
       "              early_stopping_rounds=None, enable_categorical=False,\n",
       "              eval_metric=None, feature_types=None, gamma=0.65, gpu_id=-1,\n",
       "              grow_policy=&#x27;depthwise&#x27;, importance_type=None,\n",
       "              interaction_constraints=&#x27;&#x27;, learning_rate=0.1, max_bin=256,\n",
       "              max_cat_threshold=64, max_cat_to_onehot=4, max_delta_step=0,\n",
       "              max_depth=20, max_leaves=0, min_child_weight=1, missing=nan,\n",
       "              monotone_constraints=&#x27;()&#x27;, n_estimators=8000, n_jobs=0, njobs=-1,\n",
       "              num_parallel_tree=1, predictor=&#x27;auto&#x27;, ...)</pre><b>In a Jupyter environment, please rerun this cell to show the HTML representation or trust the notebook. <br />On GitHub, the HTML representation is unable to render, please try loading this page with nbviewer.org.</b></div><div class=\"sk-container\" hidden><div class=\"sk-item\"><div class=\"sk-estimator sk-toggleable\"><input class=\"sk-toggleable__control sk-hidden--visually\" id=\"sk-estimator-id-1\" type=\"checkbox\" checked><label for=\"sk-estimator-id-1\" class=\"sk-toggleable__label sk-toggleable__label-arrow\">XGBClassifier</label><div class=\"sk-toggleable__content\"><pre>XGBClassifier(base_score=0.5, booster=&#x27;gbtree&#x27;, callbacks=None,\n",
       "              colsample_bylevel=1, colsample_bynode=1, colsample_bytree=0.75,\n",
       "              early_stopping_rounds=None, enable_categorical=False,\n",
       "              eval_metric=None, feature_types=None, gamma=0.65, gpu_id=-1,\n",
       "              grow_policy=&#x27;depthwise&#x27;, importance_type=None,\n",
       "              interaction_constraints=&#x27;&#x27;, learning_rate=0.1, max_bin=256,\n",
       "              max_cat_threshold=64, max_cat_to_onehot=4, max_delta_step=0,\n",
       "              max_depth=20, max_leaves=0, min_child_weight=1, missing=nan,\n",
       "              monotone_constraints=&#x27;()&#x27;, n_estimators=8000, n_jobs=0, njobs=-1,\n",
       "              num_parallel_tree=1, predictor=&#x27;auto&#x27;, ...)</pre></div></div></div></div></div>"
      ],
      "text/plain": [
       "XGBClassifier(base_score=0.5, booster='gbtree', callbacks=None,\n",
       "              colsample_bylevel=1, colsample_bynode=1, colsample_bytree=0.75,\n",
       "              early_stopping_rounds=None, enable_categorical=False,\n",
       "              eval_metric=None, feature_types=None, gamma=0.65, gpu_id=-1,\n",
       "              grow_policy='depthwise', importance_type=None,\n",
       "              interaction_constraints='', learning_rate=0.1, max_bin=256,\n",
       "              max_cat_threshold=64, max_cat_to_onehot=4, max_delta_step=0,\n",
       "              max_depth=20, max_leaves=0, min_child_weight=1, missing=nan,\n",
       "              monotone_constraints='()', n_estimators=8000, n_jobs=0, njobs=-1,\n",
       "              num_parallel_tree=1, predictor='auto', ...)"
      ]
     },
     "execution_count": 9,
     "metadata": {},
     "output_type": "execute_result"
    }
   ],
   "source": [
    "abc = XGBClassifier(\n",
    "        colsample_bytree= 0.75,\n",
    "        gamma= 0.65, \n",
    "        learning_rate= 0.1,\n",
    "        max_depth= 20,\n",
    "        reg_alpha= 0.4,  \n",
    "        objective=\"binary:logistic\",\n",
    "        n_estimators=8000,\n",
    "        njobs=-1\n",
    "    )       \n",
    "abc.fit(X_train,ytrain1)"
   ]
  },
  {
   "cell_type": "code",
   "execution_count": 10,
   "id": "33546cb1-7b48-41d3-b806-5449f2260131",
   "metadata": {
    "execution": {
     "iopub.execute_input": "2022-11-17T21:13:58.910571Z",
     "iopub.status.busy": "2022-11-17T21:13:58.909927Z",
     "iopub.status.idle": "2022-11-17T21:13:59.519133Z",
     "shell.execute_reply": "2022-11-17T21:13:59.517589Z",
     "shell.execute_reply.started": "2022-11-17T21:13:58.910524Z"
    }
   },
   "outputs": [
    {
     "data": {
      "text/plain": [
       "147634.98"
      ]
     },
     "execution_count": 10,
     "metadata": {},
     "output_type": "execute_result"
    }
   ],
   "source": [
    "y_pred1 = abc.predict_proba(X_test)\n",
    "y_pred1.sum()"
   ]
  },
  {
   "cell_type": "code",
   "execution_count": 11,
   "id": "8386ed39",
   "metadata": {},
   "outputs": [],
   "source": [
    "y_pred = np.array([])\n",
    "y_pred = []\n",
    "for i in range(len(y_pred1)):\n",
    "  if(y_pred1[i][0]<0.35):\n",
    "    y_pred.append(1)\n",
    "  else:\n",
    "    y_pred.append(0)"
   ]
  },
  {
   "cell_type": "code",
   "execution_count": 12,
   "id": "479aa07d",
   "metadata": {},
   "outputs": [
    {
     "data": {
      "text/plain": [
       "10376"
      ]
     },
     "execution_count": 12,
     "metadata": {},
     "output_type": "execute_result"
    }
   ],
   "source": [
    "sum(y_pred)"
   ]
  },
  {
   "cell_type": "code",
   "execution_count": 13,
   "id": "492a1ef9-8bf2-4c01-be6e-e436e4fe9647",
   "metadata": {
    "execution": {
     "iopub.execute_input": "2022-11-17T21:13:59.523634Z",
     "iopub.status.busy": "2022-11-17T21:13:59.522958Z",
     "iopub.status.idle": "2022-11-17T21:13:59.859259Z",
     "shell.execute_reply": "2022-11-17T21:13:59.857397Z",
     "shell.execute_reply.started": "2022-11-17T21:13:59.523511Z"
    }
   },
   "outputs": [],
   "source": [
    "import csv\n",
    "with open('xgboost_finalsub.csv', 'w', newline='') as file:\n",
    "    writer = csv.writer(file)\n",
    "    writer.writerow([\"Id\",\"isFraud\"])\n",
    "    idx=0\n",
    "    for i in y_pred:\n",
    "        writer.writerow([idx,i])\n",
    "        idx=idx+1"
   ]
  },
  {
   "cell_type": "code",
   "execution_count": null,
   "id": "679c0598-c232-4d04-9f10-4a312fac4dcf",
   "metadata": {},
   "outputs": [],
   "source": []
  }
 ],
 "metadata": {
  "kernelspec": {
   "display_name": "Python 3.10.8 64-bit",
   "language": "python",
   "name": "python3"
  },
  "language_info": {
   "codemirror_mode": {
    "name": "ipython",
    "version": 3
   },
   "file_extension": ".py",
   "mimetype": "text/x-python",
   "name": "python",
   "nbconvert_exporter": "python",
   "pygments_lexer": "ipython3",
   "version": "3.10.8"
  },
  "vscode": {
   "interpreter": {
    "hash": "aee8b7b246df8f9039afb4144a1f6fd8d2ca17a180786b69acc140d282b71a49"
   }
  }
 },
 "nbformat": 4,
 "nbformat_minor": 5
}
