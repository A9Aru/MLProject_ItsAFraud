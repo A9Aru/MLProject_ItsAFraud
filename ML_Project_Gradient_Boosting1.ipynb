{
 "cells": [
  {
   "cell_type": "code",
   "execution_count": 1,
   "metadata": {
    "execution": {
     "iopub.execute_input": "2022-11-17T21:10:24.969283Z",
     "iopub.status.busy": "2022-11-17T21:10:24.968671Z",
     "iopub.status.idle": "2022-11-17T21:10:35.336900Z",
     "shell.execute_reply": "2022-11-17T21:10:35.334271Z",
     "shell.execute_reply.started": "2022-11-17T21:10:24.969151Z"
    }
   },
   "outputs": [
    {
     "name": "stdout",
     "output_type": "stream",
     "text": [
      "Requirement already satisfied: imbalanced-learn in /usr/local/lib/python3.9/dist-packages (0.9.1)\n",
      "Requirement already satisfied: joblib>=1.0.0 in /usr/local/lib/python3.9/dist-packages (from imbalanced-learn) (1.1.0)\n",
      "Requirement already satisfied: numpy>=1.17.3 in /usr/local/lib/python3.9/dist-packages (from imbalanced-learn) (1.23.1)\n",
      "Requirement already satisfied: scikit-learn>=1.1.0 in /usr/local/lib/python3.9/dist-packages (from imbalanced-learn) (1.1.1)\n",
      "Requirement already satisfied: scipy>=1.3.2 in /usr/local/lib/python3.9/dist-packages (from imbalanced-learn) (1.8.1)\n",
      "Requirement already satisfied: threadpoolctl>=2.0.0 in /usr/local/lib/python3.9/dist-packages (from imbalanced-learn) (3.1.0)\n",
      "\u001b[33mWARNING: Running pip as the 'root' user can result in broken permissions and conflicting behaviour with the system package manager. It is recommended to use a virtual environment instead: https://pip.pypa.io/warnings/venv\u001b[0m\u001b[33m\n",
      "\u001b[0m"
     ]
    }
   ],
   "source": [
    "!pip install imbalanced-learn\n",
    "import numpy as np\n",
    "import pandas as pd\n",
    "import math\n",
    "from sklearn.model_selection import train_test_split\n",
    "from sklearn.metrics import f1_score\n",
    "from sklearn.metrics import roc_auc_score\n",
    "import matplotlib.pyplot as plt \n",
    "import seaborn as sns\n",
    "from sklearn.ensemble import GradientBoostingClassifier\n",
    "import imblearn\n",
    "from imblearn.over_sampling import SMOTE\n",
    "from imblearn.under_sampling import RandomUnderSampler\n",
    "from imblearn.pipeline import Pipeline\n",
    "from sklearn import preprocessing\n",
    "from sklearn.model_selection import GridSearchCV\n",
    "from sklearn.model_selection import RepeatedStratifiedKFold\n",
    "from sklearn.tree import DecisionTreeClassifier\n",
    "from xgboost import XGBClassifier"
   ]
  },
  {
   "cell_type": "code",
   "execution_count": 2,
   "metadata": {
    "execution": {
     "iopub.execute_input": "2022-11-17T21:10:35.352868Z",
     "iopub.status.busy": "2022-11-17T21:10:35.344502Z",
     "iopub.status.idle": "2022-11-17T21:10:57.612833Z",
     "shell.execute_reply": "2022-11-17T21:10:57.610599Z",
     "shell.execute_reply.started": "2022-11-17T21:10:35.352793Z"
    }
   },
   "outputs": [],
   "source": [
    "train=pd.read_csv(\"pre_processed_train.csv\")\n",
    "test=pd.read_csv(\"pre_processed_test.csv\")"
   ]
  },
  {
   "cell_type": "code",
   "execution_count": 3,
   "metadata": {
    "execution": {
     "iopub.execute_input": "2022-11-17T21:10:57.614909Z",
     "iopub.status.busy": "2022-11-17T21:10:57.614418Z",
     "iopub.status.idle": "2022-11-17T21:10:57.636827Z",
     "shell.execute_reply": "2022-11-17T21:10:57.634456Z",
     "shell.execute_reply.started": "2022-11-17T21:10:57.614863Z"
    }
   },
   "outputs": [],
   "source": [
    "t1=train"
   ]
  },
  {
   "cell_type": "code",
   "execution_count": 4,
   "metadata": {
    "execution": {
     "iopub.execute_input": "2022-11-17T21:10:57.641907Z",
     "iopub.status.busy": "2022-11-17T21:10:57.641271Z",
     "iopub.status.idle": "2022-11-17T21:10:57.912860Z",
     "shell.execute_reply": "2022-11-17T21:10:57.900590Z",
     "shell.execute_reply.started": "2022-11-17T21:10:57.641867Z"
    }
   },
   "outputs": [],
   "source": [
    "ytrain=train[\"isFraud\"]\n",
    "train.drop(axis = 1, labels = [\"isFraud\",\"Unnamed: 0\"], inplace = True)"
   ]
  },
  {
   "cell_type": "code",
   "execution_count": 5,
   "metadata": {
    "execution": {
     "iopub.execute_input": "2022-11-17T21:10:57.924922Z",
     "iopub.status.busy": "2022-11-17T21:10:57.923298Z",
     "iopub.status.idle": "2022-11-17T21:10:58.010506Z",
     "shell.execute_reply": "2022-11-17T21:10:58.009037Z",
     "shell.execute_reply.started": "2022-11-17T21:10:57.924836Z"
    }
   },
   "outputs": [],
   "source": [
    "test.drop(axis = 1, labels = [\"Unnamed: 0\"], inplace = True)"
   ]
  },
  {
   "cell_type": "code",
   "execution_count": 6,
   "metadata": {
    "execution": {
     "iopub.execute_input": "2022-11-17T21:10:58.015477Z",
     "iopub.status.busy": "2022-11-17T21:10:58.012880Z",
     "iopub.status.idle": "2022-11-17T21:11:04.216841Z",
     "shell.execute_reply": "2022-11-17T21:11:04.214719Z",
     "shell.execute_reply.started": "2022-11-17T21:10:58.015397Z"
    }
   },
   "outputs": [],
   "source": [
    "over = SMOTE(sampling_strategy=0.04)\n",
    "under = RandomUnderSampler(sampling_strategy=0.8)\n",
    "steps = [('o', over),('u',under)]\n",
    "pipeline = Pipeline(steps=steps)\n",
    "train1, ytrain1 = pipeline.fit_resample(train, ytrain)"
   ]
  },
  {
   "cell_type": "code",
   "execution_count": 7,
   "metadata": {
    "execution": {
     "iopub.execute_input": "2022-11-17T21:11:04.221130Z",
     "iopub.status.busy": "2022-11-17T21:11:04.220461Z",
     "iopub.status.idle": "2022-11-17T21:11:04.687944Z",
     "shell.execute_reply": "2022-11-17T21:11:04.686643Z",
     "shell.execute_reply.started": "2022-11-17T21:11:04.221068Z"
    }
   },
   "outputs": [],
   "source": [
    "from sklearn.preprocessing import StandardScaler\n",
    "scale= StandardScaler()\n",
    "X_train = scale.fit_transform(train1)\n",
    "X_test=scale.transform(test) "
   ]
  },
  {
   "cell_type": "code",
   "execution_count": 8,
   "metadata": {
    "execution": {
     "iopub.execute_input": "2022-11-17T21:11:04.691695Z",
     "iopub.status.busy": "2022-11-17T21:11:04.690273Z",
     "iopub.status.idle": "2022-11-17T21:13:00.808856Z",
     "shell.execute_reply": "2022-11-17T21:13:00.805580Z",
     "shell.execute_reply.started": "2022-11-17T21:11:04.691499Z"
    }
   },
   "outputs": [
    {
     "name": "stdout",
     "output_type": "stream",
     "text": [
      "Fitting 5 folds for each of 4 candidates, totalling 20 fits\n"
     ]
    }
   ],
   "source": [
    "abc = XGBClassifier()\n",
    "grid_params = {\n",
    "        'n_estimators':[10],\n",
    "        'subsample':[0.5,0.8],\n",
    "        'max_depth':[6,12],\n",
    "        'objective':[\"binary:logistic\"],\n",
    "        'learning_rate':[0.05],\n",
    "        'tree_method':['gpu_hist']\n",
    "        }\n",
    "gs=GridSearchCV(abc,grid_params,verbose=20,cv=5,n_jobs=-1,scoring='roc_auc')\n",
    "gs=gs.fit(X_train,ytrain1)"
   ]
  },
  {
   "cell_type": "code",
   "execution_count": 9,
   "metadata": {
    "execution": {
     "iopub.execute_input": "2022-11-17T21:13:00.814485Z",
     "iopub.status.busy": "2022-11-17T21:13:00.813349Z",
     "iopub.status.idle": "2022-11-17T21:13:00.826081Z",
     "shell.execute_reply": "2022-11-17T21:13:00.823377Z",
     "shell.execute_reply.started": "2022-11-17T21:13:00.814426Z"
    }
   },
   "outputs": [
    {
     "name": "stdout",
     "output_type": "stream",
     "text": [
      "Tuned Hyperparameters : {'learning_rate': 0.05, 'max_depth': 12, 'n_estimators': 10, 'objective': 'binary:logistic', 'subsample': 0.8, 'tree_method': 'gpu_hist'}\n",
      "Accuracy : 0.8886370022702341\n"
     ]
    }
   ],
   "source": [
    "print(\"Tuned Hyperparameters :\", gs.best_params_)\n",
    "print(\"Accuracy :\",gs.best_score_)"
   ]
  },
  {
   "cell_type": "code",
   "execution_count": 10,
   "metadata": {
    "execution": {
     "iopub.execute_input": "2022-11-17T21:13:00.830543Z",
     "iopub.status.busy": "2022-11-17T21:13:00.827867Z",
     "iopub.status.idle": "2022-11-17T21:13:01.187737Z",
     "shell.execute_reply": "2022-11-17T21:13:01.185609Z",
     "shell.execute_reply.started": "2022-11-17T21:13:00.830476Z"
    }
   },
   "outputs": [
    {
     "data": {
      "text/plain": [
       "19927"
      ]
     },
     "execution_count": 10,
     "metadata": {},
     "output_type": "execute_result"
    }
   ],
   "source": [
    "y_pred1 = gs.predict(X_test)\n",
    "y_pred1.sum()"
   ]
  },
  {
   "cell_type": "code",
   "execution_count": 11,
   "metadata": {
    "execution": {
     "iopub.execute_input": "2022-11-17T21:13:01.189966Z",
     "iopub.status.busy": "2022-11-17T21:13:01.189232Z",
     "iopub.status.idle": "2022-11-17T21:13:01.616504Z",
     "shell.execute_reply": "2022-11-17T21:13:01.614745Z",
     "shell.execute_reply.started": "2022-11-17T21:13:01.189900Z"
    }
   },
   "outputs": [
    {
     "name": "stdout",
     "output_type": "stream",
     "text": [
      "[CV 2/5; 1/4] START learning_rate=0.05, max_depth=6, n_estimators=10, objective=binary:logistic, subsample=0.5, tree_method=gpu_hist\n",
      "[CV 2/5; 1/4] END learning_rate=0.05, max_depth=6, n_estimators=10, objective=binary:logistic, subsample=0.5, tree_method=gpu_hist;, score=0.859 total time=   7.4s\n",
      "[CV 5/5; 2/4] START learning_rate=0.05, max_depth=6, n_estimators=10, objective=binary:logistic, subsample=0.8, tree_method=gpu_hist\n",
      "[CV 5/5; 2/4] END learning_rate=0.05, max_depth=6, n_estimators=10, objective=binary:logistic, subsample=0.8, tree_method=gpu_hist;, score=0.836 total time=   3.8s\n",
      "[CV 5/5; 3/4] START learning_rate=0.05, max_depth=12, n_estimators=10, objective=binary:logistic, subsample=0.5, tree_method=gpu_hist\n",
      "[CV 5/5; 3/4] END learning_rate=0.05, max_depth=12, n_estimators=10, objective=binary:logistic, subsample=0.5, tree_method=gpu_hist;, score=0.875 total time=  38.8s\n",
      "[CV 1/5; 2/4] START learning_rate=0.05, max_depth=6, n_estimators=10, objective=binary:logistic, subsample=0.8, tree_method=gpu_hist\n",
      "[CV 1/5; 2/4] END learning_rate=0.05, max_depth=6, n_estimators=10, objective=binary:logistic, subsample=0.8, tree_method=gpu_hist;, score=0.856 total time=   7.5s\n",
      "[CV 4/5; 2/4] START learning_rate=0.05, max_depth=6, n_estimators=10, objective=binary:logistic, subsample=0.8, tree_method=gpu_hist\n",
      "[CV 4/5; 2/4] END learning_rate=0.05, max_depth=6, n_estimators=10, objective=binary:logistic, subsample=0.8, tree_method=gpu_hist;, score=0.850 total time=   5.6s\n",
      "[CV 1/5; 4/4] START learning_rate=0.05, max_depth=12, n_estimators=10, objective=binary:logistic, subsample=0.8, tree_method=gpu_hist\n",
      "[CV 1/5; 4/4] END learning_rate=0.05, max_depth=12, n_estimators=10, objective=binary:logistic, subsample=0.8, tree_method=gpu_hist;, score=0.893 total time=  47.5s\n",
      "[CV 3/5; 1/4] START learning_rate=0.05, max_depth=6, n_estimators=10, objective=binary:logistic, subsample=0.5, tree_method=gpu_hist\n",
      "[CV 3/5; 1/4] END learning_rate=0.05, max_depth=6, n_estimators=10, objective=binary:logistic, subsample=0.5, tree_method=gpu_hist;, score=0.860 total time=   8.4s\n",
      "[CV 3/5; 3/4] START learning_rate=0.05, max_depth=12, n_estimators=10, objective=binary:logistic, subsample=0.5, tree_method=gpu_hist\n",
      "[CV 3/5; 3/4] END learning_rate=0.05, max_depth=12, n_estimators=10, objective=binary:logistic, subsample=0.5, tree_method=gpu_hist;, score=0.892 total time=  34.7s\n",
      "[CV 2/5; 4/4] START learning_rate=0.05, max_depth=12, n_estimators=10, objective=binary:logistic, subsample=0.8, tree_method=gpu_hist\n",
      "[CV 2/5; 4/4] END learning_rate=0.05, max_depth=12, n_estimators=10, objective=binary:logistic, subsample=0.8, tree_method=gpu_hist;, score=0.891 total time=  39.8s\n",
      "[CV 1/5; 1/4] START learning_rate=0.05, max_depth=6, n_estimators=10, objective=binary:logistic, subsample=0.5, tree_method=gpu_hist\n",
      "[CV 1/5; 1/4] END learning_rate=0.05, max_depth=6, n_estimators=10, objective=binary:logistic, subsample=0.5, tree_method=gpu_hist;, score=0.857 total time=   5.7s\n",
      "[CV 2/5; 2/4] START learning_rate=0.05, max_depth=6, n_estimators=10, objective=binary:logistic, subsample=0.8, tree_method=gpu_hist\n",
      "[CV 2/5; 2/4] END learning_rate=0.05, max_depth=6, n_estimators=10, objective=binary:logistic, subsample=0.8, tree_method=gpu_hist;, score=0.857 total time=   4.6s\n",
      "[CV 2/5; 3/4] START learning_rate=0.05, max_depth=12, n_estimators=10, objective=binary:logistic, subsample=0.5, tree_method=gpu_hist\n",
      "[CV 2/5; 3/4] END learning_rate=0.05, max_depth=12, n_estimators=10, objective=binary:logistic, subsample=0.5, tree_method=gpu_hist;, score=0.887 total time=  38.9s\n",
      "[CV 3/5; 4/4] START learning_rate=0.05, max_depth=12, n_estimators=10, objective=binary:logistic, subsample=0.8, tree_method=gpu_hist\n",
      "[CV 3/5; 4/4] END learning_rate=0.05, max_depth=12, n_estimators=10, objective=binary:logistic, subsample=0.8, tree_method=gpu_hist;, score=0.896 total time=  38.2s\n",
      "[CV 4/5; 1/4] START learning_rate=0.05, max_depth=6, n_estimators=10, objective=binary:logistic, subsample=0.5, tree_method=gpu_hist\n",
      "[CV 4/5; 1/4] END learning_rate=0.05, max_depth=6, n_estimators=10, objective=binary:logistic, subsample=0.5, tree_method=gpu_hist;, score=0.851 total time=   6.5s\n",
      "[CV 3/5; 2/4] START learning_rate=0.05, max_depth=6, n_estimators=10, objective=binary:logistic, subsample=0.8, tree_method=gpu_hist\n",
      "[CV 3/5; 2/4] END learning_rate=0.05, max_depth=6, n_estimators=10, objective=binary:logistic, subsample=0.8, tree_method=gpu_hist;, score=0.860 total time=   3.8s\n",
      "[CV 4/5; 3/4] START learning_rate=0.05, max_depth=12, n_estimators=10, objective=binary:logistic, subsample=0.5, tree_method=gpu_hist\n",
      "[CV 4/5; 3/4] END learning_rate=0.05, max_depth=12, n_estimators=10, objective=binary:logistic, subsample=0.5, tree_method=gpu_hist;, score=0.886 total time=  39.8s\n",
      "[CV 5/5; 4/4] START learning_rate=0.05, max_depth=12, n_estimators=10, objective=binary:logistic, subsample=0.8, tree_method=gpu_hist\n",
      "[CV 5/5; 4/4] END learning_rate=0.05, max_depth=12, n_estimators=10, objective=binary:logistic, subsample=0.8, tree_method=gpu_hist;, score=0.873 total time=  38.4s\n",
      "[CV 5/5; 1/4] START learning_rate=0.05, max_depth=6, n_estimators=10, objective=binary:logistic, subsample=0.5, tree_method=gpu_hist\n",
      "[CV 5/5; 1/4] END learning_rate=0.05, max_depth=6, n_estimators=10, objective=binary:logistic, subsample=0.5, tree_method=gpu_hist;, score=0.841 total time=   8.5s\n",
      "[CV 1/5; 3/4] START learning_rate=0.05, max_depth=12, n_estimators=10, objective=binary:logistic, subsample=0.5, tree_method=gpu_hist\n",
      "[CV 1/5; 3/4] END learning_rate=0.05, max_depth=12, n_estimators=10, objective=binary:logistic, subsample=0.5, tree_method=gpu_hist;, score=0.890 total time=  40.4s\n",
      "[CV 4/5; 4/4] START learning_rate=0.05, max_depth=12, n_estimators=10, objective=binary:logistic, subsample=0.8, tree_method=gpu_hist\n",
      "[CV 4/5; 4/4] END learning_rate=0.05, max_depth=12, n_estimators=10, objective=binary:logistic, subsample=0.8, tree_method=gpu_hist;, score=0.890 total time=  39.5s\n"
     ]
    }
   ],
   "source": [
    "import csv\n",
    "with open('xgboost1.csv', 'w', newline='') as file:\n",
    "    writer = csv.writer(file)\n",
    "    writer.writerow([\"Id\",\"isFraud\"])\n",
    "    idx=0\n",
    "    for i in y_pred1:\n",
    "        writer.writerow([idx,i])\n",
    "        idx=idx+1"
   ]
  }
 ],
 "metadata": {
  "kernelspec": {
   "display_name": "Python 3 (ipykernel)",
   "language": "python",
   "name": "python3"
  },
  "language_info": {
   "codemirror_mode": {
    "name": "ipython",
    "version": 3
   },
   "file_extension": ".py",
   "mimetype": "text/x-python",
   "name": "python",
   "nbconvert_exporter": "python",
   "pygments_lexer": "ipython3",
   "version": "3.9.13"
  },
  "vscode": {
   "interpreter": {
    "hash": "f901be38247ee343ccf023842375b442713c513c9d1d678b75352564fc2b134f"
   }
  }
 },
 "nbformat": 4,
 "nbformat_minor": 4
}
