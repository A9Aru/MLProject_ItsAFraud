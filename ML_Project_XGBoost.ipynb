{
 "cells": [
  {
   "cell_type": "code",
   "execution_count": 1,
   "id": "fd8c9d56-ca03-4fb2-9470-fcd4fa15679c",
   "metadata": {
    "execution": {
     "iopub.execute_input": "2022-11-17T21:05:49.318264Z",
     "iopub.status.busy": "2022-11-17T21:05:49.316742Z",
     "iopub.status.idle": "2022-11-17T21:06:00.946117Z",
     "shell.execute_reply": "2022-11-17T21:06:00.944491Z",
     "shell.execute_reply.started": "2022-11-17T21:05:49.318132Z"
    }
   },
   "outputs": [
    {
     "name": "stdout",
     "output_type": "stream",
     "text": [
      "Requirement already satisfied: xgboost in /usr/local/lib/python3.9/dist-packages (1.6.1)\n",
      "Requirement already satisfied: scipy in /usr/local/lib/python3.9/dist-packages (from xgboost) (1.8.1)\n",
      "Requirement already satisfied: numpy in /usr/local/lib/python3.9/dist-packages (from xgboost) (1.23.1)\n",
      "\u001b[33mWARNING: Running pip as the 'root' user can result in broken permissions and conflicting behaviour with the system package manager. It is recommended to use a virtual environment instead: https://pip.pypa.io/warnings/venv\u001b[0m\u001b[33m\n",
      "\u001b[0mCollecting imbalanced-learn\n",
      "  Downloading imbalanced_learn-0.9.1-py3-none-any.whl (199 kB)\n",
      "\u001b[2K     \u001b[90m━━━━━━━━━━━━━━━━━━━━━━━━━━━━━━━━━━━━━━\u001b[0m \u001b[32m199.3/199.3 kB\u001b[0m \u001b[31m18.6 MB/s\u001b[0m eta \u001b[36m0:00:00\u001b[0m\n",
      "\u001b[?25hRequirement already satisfied: scikit-learn>=1.1.0 in /usr/local/lib/python3.9/dist-packages (from imbalanced-learn) (1.1.1)\n",
      "Requirement already satisfied: threadpoolctl>=2.0.0 in /usr/local/lib/python3.9/dist-packages (from imbalanced-learn) (3.1.0)\n",
      "Requirement already satisfied: scipy>=1.3.2 in /usr/local/lib/python3.9/dist-packages (from imbalanced-learn) (1.8.1)\n",
      "Requirement already satisfied: numpy>=1.17.3 in /usr/local/lib/python3.9/dist-packages (from imbalanced-learn) (1.23.1)\n",
      "Requirement already satisfied: joblib>=1.0.0 in /usr/local/lib/python3.9/dist-packages (from imbalanced-learn) (1.1.0)\n",
      "Installing collected packages: imbalanced-learn\n",
      "Successfully installed imbalanced-learn-0.9.1\n",
      "\u001b[33mWARNING: Running pip as the 'root' user can result in broken permissions and conflicting behaviour with the system package manager. It is recommended to use a virtual environment instead: https://pip.pypa.io/warnings/venv\u001b[0m\u001b[33m\n",
      "\u001b[0m"
     ]
    }
   ],
   "source": [
    "!pip install xgboost\n",
    "!pip install imbalanced-learn\n",
    "import numpy as np\n",
    "import pandas as pd\n",
    "from datetime import datetime\n",
    "from sklearn.model_selection import RandomizedSearchCV, GridSearchCV\n",
    "from sklearn.metrics import roc_auc_score\n",
    "from sklearn.model_selection import StratifiedKFold\n",
    "from xgboost import XGBClassifier\n",
    "import imblearn\n",
    "from imblearn.over_sampling import SMOTE\n",
    "from imblearn.under_sampling import RandomUnderSampler\n",
    "from imblearn.pipeline import Pipeline\n",
    "from sklearn import preprocessing"
   ]
  },
  {
   "cell_type": "code",
   "execution_count": 2,
   "id": "dff020a8-170f-49b0-8a14-ab52b30c53f8",
   "metadata": {
    "execution": {
     "iopub.execute_input": "2022-11-17T21:06:00.950175Z",
     "iopub.status.busy": "2022-11-17T21:06:00.949681Z",
     "iopub.status.idle": "2022-11-17T21:06:11.487230Z",
     "shell.execute_reply": "2022-11-17T21:06:11.486357Z",
     "shell.execute_reply.started": "2022-11-17T21:06:00.950155Z"
    }
   },
   "outputs": [],
   "source": [
    "train=pd.read_csv(\"pre_processed_train.csv\")\n",
    "test=pd.read_csv(\"pre_processed_test.csv\")"
   ]
  },
  {
   "cell_type": "code",
   "execution_count": 3,
   "id": "68a6ad25-6864-430c-894d-4aae292e446c",
   "metadata": {
    "execution": {
     "iopub.execute_input": "2022-11-17T21:06:11.489539Z",
     "iopub.status.busy": "2022-11-17T21:06:11.488476Z",
     "iopub.status.idle": "2022-11-17T21:06:11.667961Z",
     "shell.execute_reply": "2022-11-17T21:06:11.666416Z",
     "shell.execute_reply.started": "2022-11-17T21:06:11.489511Z"
    }
   },
   "outputs": [],
   "source": [
    "ytrain=train[\"isFraud\"]\n",
    "train.drop(axis = 1, labels = [\"isFraud\",\"Unnamed: 0\"], inplace = True)"
   ]
  },
  {
   "cell_type": "code",
   "execution_count": 4,
   "id": "be251041-7bf6-4929-a999-182a86b75a0b",
   "metadata": {
    "execution": {
     "iopub.execute_input": "2022-11-17T21:06:11.671037Z",
     "iopub.status.busy": "2022-11-17T21:06:11.670138Z",
     "iopub.status.idle": "2022-11-17T21:06:11.742425Z",
     "shell.execute_reply": "2022-11-17T21:06:11.741135Z",
     "shell.execute_reply.started": "2022-11-17T21:06:11.671006Z"
    }
   },
   "outputs": [],
   "source": [
    "test.drop(axis = 1, labels = [\"Unnamed: 0\"], inplace = True)"
   ]
  },
  {
   "cell_type": "code",
   "execution_count": 5,
   "id": "0809d323-3d82-4eb5-9c83-0254f0306392",
   "metadata": {
    "execution": {
     "iopub.execute_input": "2022-11-17T21:06:11.743855Z",
     "iopub.status.busy": "2022-11-17T21:06:11.743596Z",
     "iopub.status.idle": "2022-11-17T21:06:16.376837Z",
     "shell.execute_reply": "2022-11-17T21:06:16.375813Z",
     "shell.execute_reply.started": "2022-11-17T21:06:11.743831Z"
    }
   },
   "outputs": [],
   "source": [
    "over = SMOTE(sampling_strategy=0.1)\n",
    "under = RandomUnderSampler(sampling_strategy=0.5)\n",
    "steps = [('o', over),('u',under)]\n",
    "pipeline = Pipeline(steps=steps)\n",
    "train1, ytrain1 = pipeline.fit_resample(train, ytrain)"
   ]
  },
  {
   "cell_type": "code",
   "execution_count": 6,
   "id": "220e6adc-c7c6-4719-86ed-a238d98d0493",
   "metadata": {
    "execution": {
     "iopub.execute_input": "2022-11-17T21:06:16.379199Z",
     "iopub.status.busy": "2022-11-17T21:06:16.378044Z",
     "iopub.status.idle": "2022-11-17T21:06:17.122372Z",
     "shell.execute_reply": "2022-11-17T21:06:17.121503Z",
     "shell.execute_reply.started": "2022-11-17T21:06:16.379167Z"
    }
   },
   "outputs": [],
   "source": [
    "from sklearn.preprocessing import StandardScaler\n",
    "scale= StandardScaler()\n",
    "X_train = scale.fit_transform(train1)\n",
    "X_test=scale.transform(test) "
   ]
  },
  {
   "cell_type": "code",
   "execution_count": 7,
   "id": "2ffbacb6-eb4e-422e-a677-2a625db09665",
   "metadata": {
    "execution": {
     "iopub.execute_input": "2022-11-17T21:06:17.124642Z",
     "iopub.status.busy": "2022-11-17T21:06:17.123434Z",
     "iopub.status.idle": "2022-11-17T21:13:58.893205Z",
     "shell.execute_reply": "2022-11-17T21:13:58.891169Z",
     "shell.execute_reply.started": "2022-11-17T21:06:17.124602Z"
    }
   },
   "outputs": [
    {
     "name": "stdout",
     "output_type": "stream",
     "text": [
      "Fitting 5 folds for each of 4 candidates, totalling 20 fits\n"
     ]
    }
   ],
   "source": [
    "abc = XGBClassifier(n_estimators=5000,\n",
    "        subsample=0.8,\n",
    "        max_depth=6,\n",
    "        objective=[\"binary:logistic\"],\n",
    "        learning_rate=0.05,\n",
    "        tree_method='gpu_hist')\n",
    "abc.fit(X_train,ytrain1)"
   ]
  },
  {
   "cell_type": "code",
   "execution_count": 9,
   "id": "33546cb1-7b48-41d3-b806-5449f2260131",
   "metadata": {
    "execution": {
     "iopub.execute_input": "2022-11-17T21:13:58.910571Z",
     "iopub.status.busy": "2022-11-17T21:13:58.909927Z",
     "iopub.status.idle": "2022-11-17T21:13:59.519133Z",
     "shell.execute_reply": "2022-11-17T21:13:59.517589Z",
     "shell.execute_reply.started": "2022-11-17T21:13:58.910524Z"
    }
   },
   "outputs": [
    {
     "data": {
      "text/plain": [
       "6046"
      ]
     },
     "execution_count": 9,
     "metadata": {},
     "output_type": "execute_result"
    }
   ],
   "source": [
    "y_pred1 = gs.predict(X_test)\n",
    "y_pred1.sum()"
   ]
  },
  {
   "cell_type": "code",
   "execution_count": 10,
   "id": "492a1ef9-8bf2-4c01-be6e-e436e4fe9647",
   "metadata": {
    "execution": {
     "iopub.execute_input": "2022-11-17T21:13:59.523634Z",
     "iopub.status.busy": "2022-11-17T21:13:59.522958Z",
     "iopub.status.idle": "2022-11-17T21:13:59.859259Z",
     "shell.execute_reply": "2022-11-17T21:13:59.857397Z",
     "shell.execute_reply.started": "2022-11-17T21:13:59.523511Z"
    }
   },
   "outputs": [],
   "source": [
    "import csv\n",
    "with open('xgboost.csv', 'w', newline='') as file:\n",
    "    writer = csv.writer(file)\n",
    "    writer.writerow([\"Id\",\"isFraud\"])\n",
    "    idx=0\n",
    "    for i in y_pred1:\n",
    "        writer.writerow([idx,i])\n",
    "        idx=idx+1"
   ]
  },
  {
   "cell_type": "code",
   "execution_count": null,
   "id": "679c0598-c232-4d04-9f10-4a312fac4dcf",
   "metadata": {},
   "outputs": [],
   "source": []
  }
 ],
 "metadata": {
  "kernelspec": {
   "display_name": "Python 3 (ipykernel)",
   "language": "python",
   "name": "python3"
  },
  "language_info": {
   "codemirror_mode": {
    "name": "ipython",
    "version": 3
   },
   "file_extension": ".py",
   "mimetype": "text/x-python",
   "name": "python",
   "nbconvert_exporter": "python",
   "pygments_lexer": "ipython3",
   "version": "3.9.13"
  }
 },
 "nbformat": 4,
 "nbformat_minor": 5
}
